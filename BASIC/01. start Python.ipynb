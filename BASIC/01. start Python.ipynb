{
 "cells": [
  {
   "cell_type": "code",
   "execution_count": 6,
   "metadata": {},
   "outputs": [
    {
     "data": {
      "text/plain": [
       "4"
      ]
     },
     "execution_count": 6,
     "metadata": {},
     "output_type": "execute_result"
    }
   ],
   "source": [
    "#list\n",
    "\n",
    "family = ['mother', 'father', 'gentleman', 'sexy lady']\n",
    "len(family)"
   ]
  },
  {
   "cell_type": "code",
   "execution_count": 7,
   "metadata": {},
   "outputs": [
    {
     "data": {
      "text/plain": [
       "'sexy lady'"
      ]
     },
     "execution_count": 7,
     "metadata": {},
     "output_type": "execute_result"
    }
   ],
   "source": [
    "family[3]"
   ]
  },
  {
   "cell_type": "code",
   "execution_count": 8,
   "metadata": {},
   "outputs": [
    {
     "data": {
      "text/plain": [
       "['mother', 'father', 'sexy lady']"
      ]
     },
     "execution_count": 8,
     "metadata": {},
     "output_type": "execute_result"
    }
   ],
   "source": [
    "family.remove('gentleman')\n",
    "family"
   ]
  },
  {
   "cell_type": "code",
   "execution_count": 9,
   "metadata": {},
   "outputs": [
    {
     "name": "stdout",
     "output_type": "stream",
     "text": [
      "직각삼각형 그리기\n",
      "\n",
      "변의 길이: 4\n",
      "* \n",
      "* * \n",
      "* * * \n",
      "* * * * \n",
      "넓이:  8.0\n"
     ]
    }
   ],
   "source": [
    "#input(int형), 제곱\n",
    "\n",
    "print('직각삼각형 그리기\\n')\n",
    "leg = int(input('변의 길이: '))\n",
    "\n",
    "for i in range(leg):\n",
    "    print('* ' * (i + 1))\n",
    "    \n",
    "area = (leg ** 2) / 2\n",
    "print('넓이: ', area)"
   ]
  },
  {
   "cell_type": "code",
   "execution_count": 10,
   "metadata": {},
   "outputs": [
    {
     "name": "stdout",
     "output_type": "stream",
     "text": [
      "직각삼각형 그리기\n",
      "\n",
      "변의 길이: 5\n",
      "* \n",
      "* * \n",
      "* * * \n",
      "* * * * \n",
      "* * * * * \n",
      "넓이:  12.5\n"
     ]
    }
   ],
   "source": [
    "print('직각삼각형 그리기\\n')\n",
    "leg = int(input('변의 길이: '))\n",
    "\n",
    "for i in range(leg):\n",
    "    print('* ' * (i + 1))\n",
    "    \n",
    "area = (leg ** 2) / 2\n",
    "print('넓이: ', area)"
   ]
  },
  {
   "cell_type": "code",
   "execution_count": 11,
   "metadata": {},
   "outputs": [
    {
     "name": "stdout",
     "output_type": "stream",
     "text": [
      "3\n",
      "9\n"
     ]
    }
   ],
   "source": [
    "#연습 문제 1.1 : 제곱\n",
    "    # 사용자에게 정수를 입력받아, 그 수의 제곱을 계산해 출력하는 파이썬 스크립트를 작성\n",
    "\n",
    "usrInput = int(input(''))\n",
    "usrInput = usrInput ** 2\n",
    "\n",
    "print(usrInput)"
   ]
  },
  {
   "cell_type": "code",
   "execution_count": null,
   "metadata": {},
   "outputs": [],
   "source": []
  }
 ],
 "metadata": {
  "kernelspec": {
   "display_name": "Python 3",
   "language": "python",
   "name": "python3"
  },
  "language_info": {
   "codemirror_mode": {
    "name": "ipython",
    "version": 3
   },
   "file_extension": ".py",
   "mimetype": "text/x-python",
   "name": "python",
   "nbconvert_exporter": "python",
   "pygments_lexer": "ipython3",
   "version": "3.7.1"
  }
 },
 "nbformat": 4,
 "nbformat_minor": 2
}
