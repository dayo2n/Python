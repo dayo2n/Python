{
 "cells": [
  {
   "cell_type": "code",
   "execution_count": 1,
   "metadata": {},
   "outputs": [],
   "source": [
    "#7.2 변수와 메서드\n",
    "class Amazon():\n",
    "    strength = 20\n",
    "    dexterity = 25\n",
    "    vitality = 20\n",
    "    energy = 15\n",
    "    \n",
    "    def attack(self):\n",
    "        return 'Jab!'\n",
    "    def exercise(self):\n",
    "    self.strength += 2\n",
    "    self.dextreity += 3\n",
    "    self.vitality += 1"
   ]
  }
 ],
 "metadata": {
  "kernelspec": {
   "display_name": "Python 3",
   "language": "python",
   "name": "python3"
  },
  "language_info": {
   "codemirror_mode": {
    "name": "ipython",
    "version": 3
   },
   "file_extension": ".py",
   "mimetype": "text/x-python",
   "name": "python",
   "nbconvert_exporter": "python",
   "pygments_lexer": "ipython3",
   "version": "3.7.1"
  }
 },
 "nbformat": 4,
 "nbformat_minor": 2
}
