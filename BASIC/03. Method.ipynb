{
 "cells": [
  {
   "cell_type": "code",
   "execution_count": 1,
   "metadata": {},
   "outputs": [],
   "source": [
    "#3.1 함수"
   ]
  },
  {
   "cell_type": "code",
   "execution_count": 2,
   "metadata": {},
   "outputs": [
    {
     "data": {
      "text/plain": [
       "13"
      ]
     },
     "execution_count": 2,
     "metadata": {},
     "output_type": "execute_result"
    }
   ],
   "source": [
    "a_list = [3, 4, 62, 27, 83, 956, 26, 58, 3, 78, 168, 64, 78]\n",
    "\n",
    "len(a_list)"
   ]
  },
  {
   "cell_type": "code",
   "execution_count": 4,
   "metadata": {},
   "outputs": [
    {
     "name": "stdout",
     "output_type": "stream",
     "text": [
      "3\n",
      "4\n",
      "62\n",
      "27\n",
      "83\n",
      "956\n",
      "26\n",
      "58\n",
      "3\n",
      "78\n",
      "168\n",
      "64\n",
      "78\n"
     ]
    }
   ],
   "source": [
    "def print_list(a):\n",
    "    for i in a:\n",
    "        print(i)\n",
    "        \n",
    "print_list(a_list)"
   ]
  },
  {
   "cell_type": "code",
   "execution_count": 5,
   "metadata": {},
   "outputs": [
    {
     "name": "stdout",
     "output_type": "stream",
     "text": [
      "i am a boy\n",
      "you are a girl\n"
     ]
    }
   ],
   "source": [
    "def boy():\n",
    "    print('i am a boy')\n",
    "    print('you are a girl')\n",
    "    \n",
    "boy()"
   ]
  },
  {
   "cell_type": "code",
   "execution_count": 7,
   "metadata": {},
   "outputs": [
    {
     "name": "stdout",
     "output_type": "stream",
     "text": [
      "2  *  1 = 2\n",
      "2  *  2 = 4\n",
      "2  *  3 = 6\n",
      "2  *  4 = 8\n",
      "2  *  5 = 10\n",
      "2  *  6 = 12\n",
      "2  *  7 = 14\n",
      "2  *  8 = 16\n",
      "2  *  9 = 18\n",
      "3  *  1 = 3\n",
      "3  *  2 = 6\n",
      "3  *  3 = 9\n",
      "3  *  4 = 12\n",
      "3  *  5 = 15\n",
      "3  *  6 = 18\n",
      "3  *  7 = 21\n",
      "3  *  8 = 24\n",
      "3  *  9 = 27\n",
      "4  *  1 = 4\n",
      "4  *  2 = 8\n",
      "4  *  3 = 12\n",
      "4  *  4 = 16\n",
      "4  *  5 = 20\n",
      "4  *  6 = 24\n",
      "4  *  7 = 28\n",
      "4  *  8 = 32\n",
      "4  *  9 = 36\n",
      "5  *  1 = 5\n",
      "5  *  2 = 10\n",
      "5  *  3 = 15\n",
      "5  *  4 = 20\n",
      "5  *  5 = 25\n",
      "5  *  6 = 30\n",
      "5  *  7 = 35\n",
      "5  *  8 = 40\n",
      "5  *  9 = 45\n",
      "6  *  1 = 6\n",
      "6  *  2 = 12\n",
      "6  *  3 = 18\n",
      "6  *  4 = 24\n",
      "6  *  5 = 30\n",
      "6  *  6 = 36\n",
      "6  *  7 = 42\n",
      "6  *  8 = 48\n",
      "6  *  9 = 54\n",
      "7  *  1 = 7\n",
      "7  *  2 = 14\n",
      "7  *  3 = 21\n",
      "7  *  4 = 28\n",
      "7  *  5 = 35\n",
      "7  *  6 = 42\n",
      "7  *  7 = 49\n",
      "7  *  8 = 56\n",
      "7  *  9 = 63\n",
      "8  *  1 = 8\n",
      "8  *  2 = 16\n",
      "8  *  3 = 24\n",
      "8  *  4 = 32\n",
      "8  *  5 = 40\n",
      "8  *  6 = 48\n",
      "8  *  7 = 56\n",
      "8  *  8 = 64\n",
      "8  *  9 = 72\n",
      "9  *  1 = 9\n",
      "9  *  2 = 18\n",
      "9  *  3 = 27\n",
      "9  *  4 = 36\n",
      "9  *  5 = 45\n",
      "9  *  6 = 54\n",
      "9  *  7 = 63\n",
      "9  *  8 = 72\n",
      "9  *  9 = 81\n"
     ]
    }
   ],
   "source": [
    "#연습문제 3.1 : 99단\n",
    "\n",
    "def gugudan():\n",
    "    for i in range(2, 10):\n",
    "        for j in range(1, 10):\n",
    "            print(i, ' * ', j , '=', i*j)\n",
    "            \n",
    "gugudan()"
   ]
  },
  {
   "cell_type": "code",
   "execution_count": 8,
   "metadata": {},
   "outputs": [
    {
     "name": "stdout",
     "output_type": "stream",
     "text": [
      "35\n"
     ]
    }
   ],
   "source": [
    "#3.2 반환(return)문\n",
    "\n",
    "def f1(x):\n",
    "    a = 3\n",
    "    b = 5\n",
    "    y = a * x + b\n",
    "    return y\n",
    "c = f1(10)\n",
    "print(c)"
   ]
  },
  {
   "cell_type": "code",
   "execution_count": 9,
   "metadata": {},
   "outputs": [
    {
     "name": "stdout",
     "output_type": "stream",
     "text": [
      "35\n"
     ]
    }
   ],
   "source": [
    "def f2(x):\n",
    "    a = 3\n",
    "    b = 5\n",
    "    y = a * x + b\n",
    "    print(y)\n",
    "d = f2(10)"
   ]
  },
  {
   "cell_type": "code",
   "execution_count": 10,
   "metadata": {},
   "outputs": [
    {
     "name": "stdout",
     "output_type": "stream",
     "text": [
      "None\n"
     ]
    }
   ],
   "source": [
    "print(d)"
   ]
  },
  {
   "cell_type": "code",
   "execution_count": 11,
   "metadata": {},
   "outputs": [],
   "source": [
    "def quiz():\n",
    "    ans = input('1 + 2 = ')\n",
    "    return 1 + 2 == int(ans)"
   ]
  },
  {
   "cell_type": "code",
   "execution_count": 12,
   "metadata": {},
   "outputs": [
    {
     "name": "stdout",
     "output_type": "stream",
     "text": [
      "1 + 2 = 3\n"
     ]
    },
    {
     "data": {
      "text/plain": [
       "True"
      ]
     },
     "execution_count": 12,
     "metadata": {},
     "output_type": "execute_result"
    }
   ],
   "source": [
    "quiz()"
   ]
  },
  {
   "cell_type": "code",
   "execution_count": 13,
   "metadata": {},
   "outputs": [
    {
     "name": "stdout",
     "output_type": "stream",
     "text": [
      "1 + 2 = 4\n"
     ]
    },
    {
     "data": {
      "text/plain": [
       "False"
      ]
     },
     "execution_count": 13,
     "metadata": {},
     "output_type": "execute_result"
    }
   ],
   "source": [
    "quiz()"
   ]
  },
  {
   "cell_type": "code",
   "execution_count": 14,
   "metadata": {},
   "outputs": [],
   "source": [
    "#3.3 지역변수, 전역변수\n",
    "jjang = '09'\n",
    "jjang = 'pig dad'"
   ]
  },
  {
   "cell_type": "code",
   "execution_count": 15,
   "metadata": {},
   "outputs": [
    {
     "data": {
      "text/plain": [
       "'pig dad'"
      ]
     },
     "execution_count": 15,
     "metadata": {},
     "output_type": "execute_result"
    }
   ],
   "source": [
    "jjang"
   ]
  },
  {
   "cell_type": "code",
   "execution_count": 17,
   "metadata": {},
   "outputs": [],
   "source": [
    "def ban():\n",
    "    jjang = '07'\n",
    "    print ('jjang = ', jjang)"
   ]
  },
  {
   "cell_type": "code",
   "execution_count": 18,
   "metadata": {},
   "outputs": [
    {
     "name": "stdout",
     "output_type": "stream",
     "text": [
      "jjang =  07\n"
     ]
    }
   ],
   "source": [
    "ban()"
   ]
  },
  {
   "cell_type": "code",
   "execution_count": 19,
   "metadata": {},
   "outputs": [],
   "source": [
    "jjang = 'pig dad'"
   ]
  },
  {
   "cell_type": "code",
   "execution_count": 20,
   "metadata": {},
   "outputs": [],
   "source": [
    "def d_is_10():\n",
    "    d = 10\n",
    "    print('d값은 ', d, '입니다')"
   ]
  },
  {
   "cell_type": "code",
   "execution_count": 21,
   "metadata": {},
   "outputs": [
    {
     "name": "stdout",
     "output_type": "stream",
     "text": [
      "d값은  10 입니다\n"
     ]
    }
   ],
   "source": [
    "d_is_10()"
   ]
  },
  {
   "cell_type": "code",
   "execution_count": 23,
   "metadata": {},
   "outputs": [],
   "source": [
    "d"
   ]
  },
  {
   "cell_type": "code",
   "execution_count": 25,
   "metadata": {},
   "outputs": [],
   "source": [
    "x = 10\n",
    "def printx():\n",
    "    print (x)"
   ]
  },
  {
   "cell_type": "code",
   "execution_count": 26,
   "metadata": {},
   "outputs": [
    {
     "name": "stdout",
     "output_type": "stream",
     "text": [
      "10\n"
     ]
    }
   ],
   "source": [
    "printx()"
   ]
  },
  {
   "cell_type": "code",
   "execution_count": 28,
   "metadata": {},
   "outputs": [
    {
     "name": "stdout",
     "output_type": "stream",
     "text": [
      "e값은 10 입니다\n"
     ]
    }
   ],
   "source": [
    "def e_is_10():\n",
    "    global e    #전역변수\n",
    "    e = 10\n",
    "    print('e값은', e, '입니다')\n",
    "e_is_10()"
   ]
  },
  {
   "cell_type": "code",
   "execution_count": 29,
   "metadata": {},
   "outputs": [],
   "source": [
    "#3.4 함수의 재귀(recursion)\n",
    "\n",
    "def hap(a, b):\n",
    "    print(a + b)"
   ]
  },
  {
   "cell_type": "code",
   "execution_count": 30,
   "metadata": {},
   "outputs": [
    {
     "name": "stdout",
     "output_type": "stream",
     "text": [
      "3\n",
      "2\n",
      "1\n",
      "Blastoff!\n"
     ]
    }
   ],
   "source": [
    "def gop():\n",
    "    print(a * b)\n",
    "def hap_gop():\n",
    "    hap(a, b)\n",
    "    gop(a, b)\n",
    "def countdown(n):\n",
    "    if n == 0:\n",
    "        print(\"Blastoff!\")\n",
    "    else:\n",
    "        print(n)\n",
    "        countdown(n-1)\n",
    "countdown(3)"
   ]
  },
  {
   "cell_type": "code",
   "execution_count": 34,
   "metadata": {},
   "outputs": [
    {
     "name": "stdout",
     "output_type": "stream",
     "text": [
      "21\n",
      "13\n"
     ]
    }
   ],
   "source": [
    "#연습문제 3.2 : 각 자리 숫자의 합을 구하는 재귀 함수\n",
    "    # 어떤 수 number의 각 자리 숫자 digit의 합을 계산하는 sumOfDigits()라는 재귀 함수를 작성하자\n",
    "    \n",
    "def sumOfDigits(number):\n",
    "    if number >= 1:\n",
    "        return number % 10 + sumOfDigits(number // 10) # //연산자 : 나눗셈 연산 이후 소수점은 버리고 정수만 취함\n",
    "    else:\n",
    "        return 0\n",
    "    \n",
    "print(sumOfDigits(47253))\n",
    "print(sumOfDigits(643))"
   ]
  },
  {
   "cell_type": "code",
   "execution_count": 35,
   "metadata": {},
   "outputs": [
    {
     "data": {
      "text/plain": [
       "30"
      ]
     },
     "execution_count": 35,
     "metadata": {},
     "output_type": "execute_result"
    }
   ],
   "source": [
    "#3.5 람다 (lambda) : 함수를 한줄로 작성할 수 있게 해줌\n",
    "\n",
    "def hap(x, y):\n",
    "    return x + y\n",
    "hap(10, 20)"
   ]
  },
  {
   "cell_type": "code",
   "execution_count": 36,
   "metadata": {},
   "outputs": [
    {
     "data": {
      "text/plain": [
       "30"
      ]
     },
     "execution_count": 36,
     "metadata": {},
     "output_type": "execute_result"
    }
   ],
   "source": [
    "(lambda x,y: x + y)(10, 20)"
   ]
  },
  {
   "cell_type": "code",
   "execution_count": 38,
   "metadata": {},
   "outputs": [
    {
     "data": {
      "text/plain": [
       "[0, 1, 4, 9, 16]"
      ]
     },
     "execution_count": 38,
     "metadata": {},
     "output_type": "execute_result"
    }
   ],
   "source": [
    "#map(함수, 리스트)\n",
    "\n",
    "list(map(lambda x: x ** 2, range(5)))"
   ]
  },
  {
   "cell_type": "code",
   "execution_count": 39,
   "metadata": {},
   "outputs": [
    {
     "data": {
      "text/plain": [
       "10"
      ]
     },
     "execution_count": 39,
     "metadata": {},
     "output_type": "execute_result"
    }
   ],
   "source": [
    "from functools import reduce\n",
    "reduce(lambda x, y: x + y, [0, 1, 2, 3, 4])"
   ]
  },
  {
   "cell_type": "code",
   "execution_count": 40,
   "metadata": {},
   "outputs": [
    {
     "data": {
      "text/plain": [
       "'edcba'"
      ]
     },
     "execution_count": 40,
     "metadata": {},
     "output_type": "execute_result"
    }
   ],
   "source": [
    "reduce(lambda x, y: y + x, 'abcde')"
   ]
  },
  {
   "cell_type": "code",
   "execution_count": 41,
   "metadata": {},
   "outputs": [
    {
     "data": {
      "text/plain": [
       "[0, 1, 2, 3, 4]"
      ]
     },
     "execution_count": 41,
     "metadata": {},
     "output_type": "execute_result"
    }
   ],
   "source": [
    "list(filter(lambda x: x < 5, range(10)))"
   ]
  },
  {
   "cell_type": "code",
   "execution_count": 42,
   "metadata": {},
   "outputs": [
    {
     "data": {
      "text/plain": [
       "[1, 3, 5, 7, 9]"
      ]
     },
     "execution_count": 42,
     "metadata": {},
     "output_type": "execute_result"
    }
   ],
   "source": [
    "list(filter(lambda x: x % 2, range(10))) #0은 거짓, 1은 참"
   ]
  },
  {
   "cell_type": "code",
   "execution_count": null,
   "metadata": {},
   "outputs": [],
   "source": []
  }
 ],
 "metadata": {
  "kernelspec": {
   "display_name": "Python 3",
   "language": "python",
   "name": "python3"
  },
  "language_info": {
   "codemirror_mode": {
    "name": "ipython",
    "version": 3
   },
   "file_extension": ".py",
   "mimetype": "text/x-python",
   "name": "python",
   "nbconvert_exporter": "python",
   "pygments_lexer": "ipython3",
   "version": "3.7.1"
  }
 },
 "nbformat": 4,
 "nbformat_minor": 2
}
